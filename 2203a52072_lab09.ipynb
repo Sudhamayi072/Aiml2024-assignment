{
  "nbformat": 4,
  "nbformat_minor": 0,
  "metadata": {
    "colab": {
      "provenance": []
    },
    "kernelspec": {
      "name": "python3",
      "display_name": "Python 3"
    },
    "language_info": {
      "name": "python"
    }
  },
  "cells": [
    {
      "cell_type": "code",
      "execution_count": 1,
      "metadata": {
        "id": "zEqNkNb7vwjE",
        "colab": {
          "base_uri": "https://localhost:8080/"
        },
        "outputId": "86365134-e5e1-4b1e-f6b7-545be27f2297"
      },
      "outputs": [
        {
          "output_type": "stream",
          "name": "stderr",
          "text": [
            "/usr/local/lib/python3.10/dist-packages/sklearn/cluster/_kmeans.py:870: FutureWarning: The default value of `n_init` will change from 10 to 'auto' in 1.4. Set the value of `n_init` explicitly to suppress the warning\n",
            "  warnings.warn(\n"
          ]
        },
        {
          "output_type": "stream",
          "name": "stdout",
          "text": [
            "Cluster Centers:\n",
            "[[3.49223027e+03 9.47279849e-01 1.60074480e+03 9.98966267e+02\n",
            "  6.02106048e+02 2.17451663e+03 5.40228114e-01 3.16621696e-01\n",
            "  3.86468229e-01 2.16535259e-01 5.90850869e+00 2.22744739e+01\n",
            "  9.07658030e+03 2.98167057e+03 1.61353155e+03 1.31777190e-01\n",
            "  1.17342177e+01]\n",
            " [8.81972301e+02 8.76526038e-01 6.26338542e+02 3.25139635e+02\n",
            "  3.01507145e+02 5.01463977e+02 4.75370387e-01 1.59559724e-01\n",
            "  3.57762895e-01 1.08531628e-01 2.29658336e+00 1.10626384e+01\n",
            "  2.78595754e+03 1.04045587e+03 5.72313583e+02 1.65169176e-01\n",
            "  1.14591901e+01]\n",
            " [4.83073379e+03 9.16967664e-01 1.09117699e+04 7.69262336e+03\n",
            "  3.21931844e+03 5.17149377e+03 7.59576219e-01 6.04345945e-01\n",
            "  6.13561977e-01 2.25522508e-01 9.25000000e+00 8.74765625e+01\n",
            "  1.24886719e+04 1.80863983e+04 2.49055499e+03 3.39700266e-01\n",
            "  1.18359375e+01]]\n",
            "\n",
            "Count of data points in each cluster:\n",
            "Cluster\n",
            "1    6314\n",
            "0    2194\n",
            "2     128\n",
            "Name: count, dtype: int64\n"
          ]
        }
      ],
      "source": [
        "import pandas as pd\n",
        "from sklearn.cluster import KMeans\n",
        "\n",
        "# a) Read the data with pandas\n",
        "data = pd.read_csv(\"CC GENERAL.csv\")\n",
        "\n",
        "# Drop any rows with missing values\n",
        "data.dropna(inplace=True)\n",
        "\n",
        "# Selecting relevant features for clustering\n",
        "X = data.drop(['CUST_ID'], axis=1)\n",
        "\n",
        "# b) Apply suitable model, and train\n",
        "# Here, we'll use KMeans clustering\n",
        "kmeans = KMeans(n_clusters=3, random_state=42)\n",
        "kmeans.fit(X)\n",
        "\n",
        "# c) Print results\n",
        "# Adding cluster labels to the dataframe\n",
        "data['Cluster'] = kmeans.labels_\n",
        "\n",
        "# Printing cluster centers\n",
        "print(\"Cluster Centers:\")\n",
        "print(kmeans.cluster_centers_)\n",
        "\n",
        "# Printing count of data points in each cluster\n",
        "print(\"\\nCount of data points in each cluster:\")\n",
        "print(data['Cluster'].value_counts())"
      ]
    }
  ]
}